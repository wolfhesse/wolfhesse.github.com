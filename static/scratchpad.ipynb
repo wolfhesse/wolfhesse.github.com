{
 "metadata": {
  "name": ""
 },
 "nbformat": 3,
 "nbformat_minor": 0,
 "worksheets": [
  {
   "cells": [
    {
     "cell_type": "markdown",
     "metadata": {},
     "source": [
      "#### enter next field and press Ctrl-Enter repeatedly"
     ]
    },
    {
     "cell_type": "code",
     "collapsed": false,
     "input": [
      "%hist"
     ],
     "language": "python",
     "metadata": {},
     "outputs": [
      {
       "output_type": "stream",
       "stream": "stdout",
       "text": [
        "%hist?\n",
        "%hist\n",
        "%hist\n",
        "%hist\n",
        "%hist\n",
        "%hist\n",
        "%hist\n",
        "%hist\n",
        "%hist?\n",
        "%hist?\n",
        "%hist?\n",
        "%hist?\n",
        "%history\n",
        "%history\n",
        "%hist?\n",
        "%history\n",
        "!cat log.py\n",
        "%history?\n",
        "%history -f log.py\n",
        "!cat log.py\n",
        "!rm log.py\n",
        "!cat log.py\n",
        "%hist\n"
       ]
      }
     ],
     "prompt_number": 23
    },
    {
     "cell_type": "markdown",
     "metadata": {},
     "source": [
      "#### help: enter the field and press Shift-Enter (or Ctrl-Enter)"
     ]
    },
    {
     "cell_type": "code",
     "collapsed": false,
     "input": [
      "%hist?\n"
     ],
     "language": "python",
     "metadata": {},
     "outputs": [],
     "prompt_number": 24
    },
    {
     "cell_type": "code",
     "collapsed": false,
     "input": [
      "%history"
     ],
     "language": "python",
     "metadata": {},
     "outputs": [
      {
       "output_type": "stream",
       "stream": "stdout",
       "text": [
        "%hist?\n",
        "%hist\n",
        "%hist\n",
        "%hist\n",
        "%hist\n",
        "%hist\n",
        "%hist\n",
        "%hist\n",
        "%hist?\n",
        "%hist?\n",
        "%hist?\n",
        "%hist?\n",
        "%history\n",
        "%history\n",
        "%hist?\n",
        "%history\n",
        "!cat log.py\n",
        "%history?\n",
        "%history -f log.py\n",
        "!cat log.py\n",
        "!rm log.py\n",
        "!cat log.py\n",
        "%hist\n",
        "%hist?\n",
        "%history\n"
       ]
      }
     ],
     "prompt_number": 25
    },
    {
     "cell_type": "markdown",
     "metadata": {},
     "source": [
      "### uebung"
     ]
    },
    {
     "cell_type": "code",
     "collapsed": false,
     "input": [
      "%history?"
     ],
     "language": "python",
     "metadata": {},
     "outputs": [],
     "prompt_number": 27
    },
    {
     "cell_type": "code",
     "collapsed": false,
     "input": [
      "%history -f log.py"
     ],
     "language": "python",
     "metadata": {},
     "outputs": [],
     "prompt_number": 30
    },
    {
     "cell_type": "code",
     "collapsed": true,
     "input": [
      "!cat log.py"
     ],
     "language": "python",
     "metadata": {},
     "outputs": [
      {
       "output_type": "stream",
       "stream": "stdout",
       "text": [
        "%hist?\r\n",
        "%hist\r\n",
        "%hist\r\n",
        "%hist\r\n",
        "%hist\r\n",
        "%hist\r\n",
        "%hist\r\n",
        "%hist\r\n",
        "%hist?\r\n",
        "%hist?\r\n",
        "%hist?\r\n",
        "%hist?\r\n",
        "%history\r\n",
        "%history\r\n",
        "%hist?\r\n",
        "%history\r\n",
        "!cat log.py\r\n",
        "%history?\r\n",
        "%history -f log.py\r\n",
        "!cat log.py\r\n",
        "!rm log.py\r\n",
        "!cat log.py\r\n",
        "%hist\r\n",
        "%hist?\r\n",
        "%history\r\n",
        "!cat log.py\r\n",
        "%history?\r\n",
        "%history -f log.py\r\n",
        "!rm log.py\r\n",
        "%history -f log.py\r\n"
       ]
      }
     ],
     "prompt_number": 31
    },
    {
     "cell_type": "code",
     "collapsed": true,
     "input": [
      "!rm log.py"
     ],
     "language": "python",
     "metadata": {},
     "outputs": [],
     "prompt_number": 29
    },
    {
     "cell_type": "markdown",
     "metadata": {},
     "source": [
      "```\n",
      "\tCHROME DEVICES\n",
      "COMPONENTS\n",
      "COMPRESSOR\n",
      "COMPUTED TOMOGRAPHY\n",
      "DIGITAL RADIOGRAPHY\n",
      "DIGITAL SIGNAGE\n",
      "ENTERPRISE IP PHONE SYSTEMS\n",
      "HEALTHCARE TVS\n",
      " \n",
      "HOSPITALITY TVS\n",
      "LAPTOPS\n",
      "LED LIGHTING\n",
      "MOBILE PHONES\n",
      "MONITORS\n",
      "NETWORKS\n",
      "PAY TV DEVICES\n",
      "PRINTERS & COPIERS\n",
      " \n",
      "SMB PHONE SYSTEMS\n",
      "SOLID STATE DRIVES\n",
      "TABLETS\n",
      "ULTRASOUND\n",
      "UNIFIED COMMUNICATIONS\n",
      "WEARABLE TECH\n",
      "WIRELESS LAN\n",
      "ZERO & THIN CLIENTS\n",
      "```\n"
     ]
    },
    {
     "cell_type": "code",
     "collapsed": false,
     "input": [
      "%%ruby\n",
      "a=%w(\n",
      "    \t\n",
      "\tCHROME DEVICES\n",
      "COMPONENTS\n",
      "COMPRESSOR\n",
      "COMPUTED TOMOGRAPHY\n",
      "DIGITAL RADIOGRAPHY\n",
      "DIGITAL SIGNAGE\n",
      "ENTERPRISE IP PHONE SYSTEMS\n",
      "HEALTHCARE TVS\n",
      " \n",
      "HOSPITALITY TVS\n",
      "LAPTOPS\n",
      "LED LIGHTING\n",
      "MOBILE PHONES\n",
      "MONITORS\n",
      "NETWORKS\n",
      "PAY TV DEVICES\n",
      "PRINTERS & COPIERS\n",
      " \n",
      "SMB PHONE SYSTEMS\n",
      "SOLID STATE DRIVES\n",
      "TABLETS\n",
      "ULTRASOUND\n",
      "UNIFIED COMMUNICATIONS\n",
      "WEARABLE TECH\n",
      "WIRELESS LAN\n",
      "ZERO & THIN CLIENTS\n",
      ")\n",
      "puts a"
     ],
     "language": "python",
     "metadata": {},
     "outputs": [
      {
       "output_type": "stream",
       "stream": "stdout",
       "text": [
        "CHROME\n",
        "DEVICES\n",
        "COMPONENTS\n",
        "COMPRESSOR\n",
        "COMPUTED\n",
        "TOMOGRAPHY\n",
        "DIGITAL\n",
        "RADIOGRAPHY\n",
        "DIGITAL\n",
        "SIGNAGE\n",
        "ENTERPRISE\n",
        "IP\n",
        "PHONE\n",
        "SYSTEMS\n",
        "HEALTHCARE\n",
        "TVS\n",
        "HOSPITALITY\n",
        "TVS\n",
        "LAPTOPS\n",
        "LED\n",
        "LIGHTING\n",
        "MOBILE\n",
        "PHONES\n",
        "MONITORS\n",
        "NETWORKS\n",
        "PAY\n",
        "TV\n",
        "DEVICES\n",
        "PRINTERS\n",
        "&\n",
        "COPIERS\n",
        "SMB\n",
        "PHONE\n",
        "SYSTEMS\n",
        "SOLID\n",
        "STATE\n",
        "DRIVES\n",
        "TABLETS\n",
        "ULTRASOUND\n",
        "UNIFIED\n",
        "COMMUNICATIONS\n",
        "WEARABLE\n",
        "TECH\n",
        "WIRELESS\n",
        "LAN\n",
        "ZERO\n",
        "&\n",
        "THIN\n",
        "CLIENTS\n"
       ]
      }
     ],
     "prompt_number": 1
    },
    {
     "cell_type": "code",
     "collapsed": false,
     "input": [
      "%%ruby\n",
      "require ('date')\n",
      "puts DateTime.now"
     ],
     "language": "python",
     "metadata": {},
     "outputs": [
      {
       "output_type": "stream",
       "stream": "stdout",
       "text": [
        "2015-03-02T16:21:38+01:00\n"
       ]
      }
     ],
     "prompt_number": 14
    },
    {
     "cell_type": "code",
     "collapsed": false,
     "input": [
      "%%ruby\n",
      "\n",
      "require ('date')\n",
      "puts \"[report ts] #{DateTime.now}\"\n",
      "puts \"DATA_ANF\"\n",
      "\n",
      "lines = <<endoflines\n",
      "\n",
      "\tCHROME DEVICES\n",
      "COMPONENTS\n",
      "COMPRESSOR\n",
      "COMPUTED TOMOGRAPHY\n",
      "DIGITAL RADIOGRAPHY\n",
      "DIGITAL SIGNAGE\n",
      "ENTERPRISE IP PHONE SYSTEMS\n",
      "HEALTHCARE TVS\n",
      " \n",
      "HOSPITALITY TVS\n",
      "LAPTOPS\n",
      "LED LIGHTING\n",
      "MOBILE PHONES\n",
      "MONITORS\n",
      "NETWORKS\n",
      "PAY TV DEVICES\n",
      "PRINTERS & COPIERS\n",
      " \n",
      "SMB PHONE SYSTEMS\n",
      "SOLID STATE DRIVES\n",
      "TABLETS\n",
      "ULTRASOUND\n",
      "UNIFIED COMMUNICATIONS\n",
      "WEARABLE TECH\n",
      "WIRELESS LAN\n",
      "ZERO & THIN CLIENTS\n",
      "endoflines\n",
      "puts lines.split(\"\\n\").collect{|e|e.strip}.reject{|e|e.empty?}.collect{|e| \"segment: #{e}\"}.sort.join(\", \\n\")\n",
      "puts \"DATA_END\""
     ],
     "language": "python",
     "metadata": {},
     "outputs": [
      {
       "output_type": "stream",
       "stream": "stdout",
       "text": [
        "[report ts] 2015-03-02T16:32:21+01:00\n",
        "DATA_ANF\n",
        "segment: CHROME DEVICES, \n",
        "segment: COMPONENTS, \n",
        "segment: COMPRESSOR, \n",
        "segment: COMPUTED TOMOGRAPHY, \n",
        "segment: DIGITAL RADIOGRAPHY, \n",
        "segment: DIGITAL SIGNAGE, \n",
        "segment: ENTERPRISE IP PHONE SYSTEMS, \n",
        "segment: HEALTHCARE TVS, \n",
        "segment: HOSPITALITY TVS, \n",
        "segment: LAPTOPS, \n",
        "segment: LED LIGHTING, \n",
        "segment: MOBILE PHONES, \n",
        "segment: MONITORS, \n",
        "segment: NETWORKS, \n",
        "segment: PAY TV DEVICES, \n",
        "segment: PRINTERS & COPIERS, \n",
        "segment: SMB PHONE SYSTEMS, \n",
        "segment: SOLID STATE DRIVES, \n",
        "segment: TABLETS, \n",
        "segment: ULTRASOUND, \n",
        "segment: UNIFIED COMMUNICATIONS, \n",
        "segment: WEARABLE TECH, \n",
        "segment: WIRELESS LAN, \n",
        "segment: ZERO & THIN CLIENTS\n",
        "DATA_END\n"
       ]
      }
     ],
     "prompt_number": 27
    },
    {
     "cell_type": "code",
     "collapsed": false,
     "input": [
      "!rvm current"
     ],
     "language": "python",
     "metadata": {},
     "outputs": [
      {
       "output_type": "stream",
       "stream": "stdout",
       "text": [
        "ruby-2.2.0@interactive\r\n"
       ]
      }
     ],
     "prompt_number": 15
    },
    {
     "cell_type": "code",
     "collapsed": false,
     "input": [
      "!gem list\n"
     ],
     "language": "python",
     "metadata": {},
     "outputs": [
      {
       "output_type": "stream",
       "stream": "stdout",
       "text": [
        "\r\n",
        "*** LOCAL GEMS ***\r\n",
        "\r\n",
        "bigdecimal (1.2.6)\r\n",
        "bundler (1.7.12)\r\n",
        "bundler-unload (1.0.2)\r\n",
        "docile (1.1.5)\r\n",
        "executable-hooks (1.3.2)\r\n",
        "gem-wrappers (1.2.7)\r\n",
        "io-console (0.4.3)\r\n",
        "json (1.8.1)\r\n",
        "power_assert (0.2.2)\r\n",
        "psych (2.0.8)\r\n",
        "rake (10.4.2)\r\n",
        "rdoc (4.2.0)\r\n",
        "rubygems-bundler (1.4.4)\r\n",
        "rvm (1.11.3.9)\r\n",
        "spork (0.9.2)\r\n",
        "spork-testunit (0.0.8)\r\n",
        "test-unit (3.0.9)\r\n"
       ]
      }
     ],
     "prompt_number": 16
    },
    {
     "cell_type": "code",
     "collapsed": true,
     "input": [
      "!git status"
     ],
     "language": "python",
     "metadata": {},
     "outputs": [
      {
       "output_type": "stream",
       "stream": "stdout",
       "text": [
        "On branch develop\r\n",
        "Your branch is ahead of 'origin/develop' by 5 commits.\r\n",
        "  (use \"git push\" to publish your local commits)\r\n",
        "\r\n",
        "Changes not staged for commit:\r\n",
        "  (use \"git add <file>...\" to update what will be committed)\r\n",
        "  (use \"git checkout -- <file>...\" to discard changes in working directory)\r\n",
        "\r\n",
        "\t\u001b[31mmodified:   .ipynb_checkpoints/scratchpad-checkpoint.ipynb\u001b[m\r\n",
        "\t\u001b[31mmodified:   data.d/schedule-ff0d6be1-3cc4-466b-bc1e-5b3d2cd6308a.json\u001b[m\r\n",
        "\t\u001b[31mmodified:   scratchpad.ipynb\u001b[m\r\n",
        "\t\u001b[31mmodified:   venv/bin/python\u001b[m\r\n",
        "\t\u001b[31mmodified:   venv/bin/python3\u001b[m\r\n",
        "\t\u001b[31mmodified:   venv/bin/python3.4\u001b[m\r\n",
        "\t\u001b[31mmodified:   winbooks.d/.ipynb_checkpoints/initial-checkpoint.ipynb\u001b[m\r\n",
        "\t\u001b[31mmodified:   winbooks.d/initial.ipynb\u001b[m\r\n",
        "\t\u001b[31mmodified:   winbooks.d/task-configure-protege-script-plugins/.ipynb_checkpoints/Untitled-checkpoint.ipynb\u001b[m\r\n",
        "\t\u001b[31mmodified:   winbooks.d/task-configure-protege-script-plugins/Untitled.ipynb\u001b[m\r\n",
        "\r\n",
        "no changes added to commit (use \"git add\" and/or \"git commit -a\")\r\n"
       ]
      }
     ],
     "prompt_number": 18
    },
    {
     "cell_type": "code",
     "collapsed": false,
     "input": [
      "!git add --all ."
     ],
     "language": "python",
     "metadata": {},
     "outputs": [],
     "prompt_number": 22
    },
    {
     "cell_type": "code",
     "collapsed": false,
     "input": [
      "!git commit -a -m 'ann.samsung_segments :to_protege(:eins)'"
     ],
     "language": "python",
     "metadata": {},
     "outputs": [
      {
       "output_type": "stream",
       "stream": "stdout",
       "text": [
        "[develop b233295] ann.samsung_segments :to_protege(:eins)\r\n",
        " 2 files changed, 284 insertions(+), 5 deletions(-)\r\n"
       ]
      }
     ],
     "prompt_number": 23
    },
    {
     "cell_type": "code",
     "collapsed": false,
     "input": [
      "\n"
     ],
     "language": "python",
     "metadata": {},
     "outputs": []
    }
   ],
   "metadata": {}
  }
 ]
}