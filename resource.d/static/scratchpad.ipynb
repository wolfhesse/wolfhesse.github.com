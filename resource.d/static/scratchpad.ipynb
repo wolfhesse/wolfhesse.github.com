{
 "metadata": {
  "name": ""
 },
 "nbformat": 3,
 "nbformat_minor": 0,
 "worksheets": [
  {
   "cells": [
    {
     "cell_type": "markdown",
     "metadata": {},
     "source": [
      "```\n",
      "\tCHROME DEVICES\n",
      "COMPONENTS\n",
      "COMPRESSOR\n",
      "COMPUTED TOMOGRAPHY\n",
      "DIGITAL RADIOGRAPHY\n",
      "DIGITAL SIGNAGE\n",
      "ENTERPRISE IP PHONE SYSTEMS\n",
      "HEALTHCARE TVS\n",
      " \n",
      "HOSPITALITY TVS\n",
      "LAPTOPS\n",
      "LED LIGHTING\n",
      "MOBILE PHONES\n",
      "MONITORS\n",
      "NETWORKS\n",
      "PAY TV DEVICES\n",
      "PRINTERS & COPIERS\n",
      " \n",
      "SMB PHONE SYSTEMS\n",
      "SOLID STATE DRIVES\n",
      "TABLETS\n",
      "ULTRASOUND\n",
      "UNIFIED COMMUNICATIONS\n",
      "WEARABLE TECH\n",
      "WIRELESS LAN\n",
      "ZERO & THIN CLIENTS\n",
      "```\n"
     ]
    },
    {
     "cell_type": "code",
     "collapsed": false,
     "input": [
      "%%ruby\n",
      "a=%w(\n",
      "    \t\n",
      "\tCHROME DEVICES\n",
      "COMPONENTS\n",
      "COMPRESSOR\n",
      "COMPUTED TOMOGRAPHY\n",
      "DIGITAL RADIOGRAPHY\n",
      "DIGITAL SIGNAGE\n",
      "ENTERPRISE IP PHONE SYSTEMS\n",
      "HEALTHCARE TVS\n",
      " \n",
      "HOSPITALITY TVS\n",
      "LAPTOPS\n",
      "LED LIGHTING\n",
      "MOBILE PHONES\n",
      "MONITORS\n",
      "NETWORKS\n",
      "PAY TV DEVICES\n",
      "PRINTERS & COPIERS\n",
      " \n",
      "SMB PHONE SYSTEMS\n",
      "SOLID STATE DRIVES\n",
      "TABLETS\n",
      "ULTRASOUND\n",
      "UNIFIED COMMUNICATIONS\n",
      "WEARABLE TECH\n",
      "WIRELESS LAN\n",
      "ZERO & THIN CLIENTS\n",
      ")\n",
      "puts a"
     ],
     "language": "python",
     "metadata": {},
     "outputs": [],
     "prompt_number": "*"
    },
    {
     "cell_type": "code",
     "collapsed": false,
     "input": [
      "%%ruby\n",
      "require ('date')\n",
      "puts DateTime.now"
     ],
     "language": "python",
     "metadata": {},
     "outputs": [],
     "prompt_number": "*"
    },
    {
     "cell_type": "code",
     "collapsed": false,
     "input": [
      "%%ruby\n",
      "\n",
      "require ('date')\n",
      "puts \"[report ts] #{DateTime.now}\"\n",
      "puts \"DATA_ANF\"\n",
      "\n",
      "lines = <<endoflines\n",
      "\n",
      "\tCHROME DEVICES\n",
      "COMPONENTS\n",
      "COMPRESSOR\n",
      "COMPUTED TOMOGRAPHY\n",
      "DIGITAL RADIOGRAPHY\n",
      "DIGITAL SIGNAGE\n",
      "ENTERPRISE IP PHONE SYSTEMS\n",
      "HEALTHCARE TVS\n",
      " \n",
      "HOSPITALITY TVS\n",
      "LAPTOPS\n",
      "LED LIGHTING\n",
      "MOBILE PHONES\n",
      "MONITORS\n",
      "NETWORKS\n",
      "PAY TV DEVICES\n",
      "PRINTERS & COPIERS\n",
      " \n",
      "SMB PHONE SYSTEMS\n",
      "SOLID STATE DRIVES\n",
      "TABLETS\n",
      "ULTRASOUND\n",
      "UNIFIED COMMUNICATIONS\n",
      "WEARABLE TECH\n",
      "WIRELESS LAN\n",
      "ZERO & THIN CLIENTS\n",
      "endoflines\n",
      "puts lines.split(\"\\n\").collect{|e|e.strip}.reject{|e|e.empty?}.collect{|e| \"segment: #{e}\"}.sort.join(\", \\n\")\n",
      "puts \"DATA_END\""
     ],
     "language": "python",
     "metadata": {},
     "outputs": [],
     "prompt_number": "*"
    },
    {
     "cell_type": "code",
     "collapsed": false,
     "input": [
      "!rvm current"
     ],
     "language": "python",
     "metadata": {},
     "outputs": [],
     "prompt_number": "*"
    },
    {
     "cell_type": "code",
     "collapsed": false,
     "input": [
      "!gem list\n"
     ],
     "language": "python",
     "metadata": {},
     "outputs": [],
     "prompt_number": "*"
    },
    {
     "cell_type": "code",
     "collapsed": true,
     "input": [
      "!git status"
     ],
     "language": "python",
     "metadata": {},
     "outputs": [],
     "prompt_number": "*"
    },
    {
     "cell_type": "code",
     "collapsed": false,
     "input": [
      "!git add --all ."
     ],
     "language": "python",
     "metadata": {},
     "outputs": [],
     "prompt_number": "*"
    },
    {
     "cell_type": "code",
     "collapsed": false,
     "input": [
      "!git commit -a -m 'ann.samsung_segments :to_protege(:eins)'"
     ],
     "language": "python",
     "metadata": {},
     "outputs": [],
     "prompt_number": "*"
    },
    {
     "cell_type": "code",
     "collapsed": false,
     "input": [
      "\n"
     ],
     "language": "python",
     "metadata": {},
     "outputs": [],
     "prompt_number": "*"
    }
   ],
   "metadata": {}
  }
 ]
}